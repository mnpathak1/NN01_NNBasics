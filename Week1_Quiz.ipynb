{
 "cells": [
  {
   "cell_type": "markdown",
   "metadata": {},
   "source": [
    "#### 1\n",
    "\n",
    "What does the analogy “AI is the new electricity” refer to?\n",
    "\n",
    "Similar to electricity starting about 100 years ago, AI is transforming multiple industries."
   ]
  },
  {
   "cell_type": "markdown",
   "metadata": {},
   "source": [
    "#### 2\n",
    "\n",
    "Which of these are reasons for Deep Learning recently taking off? (Check the three options that apply.)\n",
    "\n",
    "We have access to a lot more computational power. CORRECT  \n",
    "Yes! The development of hardware, perhaps especially GPU computing, has significantly improved deep learning algorithms' performance.  \n",
    "\n",
    "We have access to a lot more data. CORRECT  \n",
    "Yes! The digitalization of our society has played a huge role in this.  \n",
    "\n",
    "Deep learning has resulted in significant improvements in important applications such as online advertising, speech recognition, and image recognition. CORRECT  \n"
   ]
  },
  {
   "cell_type": "markdown",
   "metadata": {},
   "source": [
    "#### 3 \n",
    "\n",
    "Recall this diagram of iterating over different ML ideas. Which of the statements below are true? (Check all that apply.)  \n",
    "\n",
    "Being able to try out ideas quickly allows deep learning engineers to iterate more quickly. CORRECT  \n",
    "Faster computation can help speed up how long a team takes to iterate to a good idea. CORRECT  \n",
    "Recent progress in deep learning algorithms has allowed us to train good models faster (even without changing the CPU/GPU hardware). CORRECT  \n",
    "Yes. For example, we discussed how switching from sigmoid to ReLU activation functions allows faster training.  "
   ]
  },
  {
   "cell_type": "markdown",
   "metadata": {},
   "source": [
    "#### 4\n",
    "\n",
    "When an experienced deep learning engineer works on a new problem, they can usually use insight from previous problems to train a good model on the first try, without needing to iterate multiple times through different models. True/False? FALSE  \n",
    "\n",
    "Finding the characteristics of a model is key to have good performance. Although experience can help, it requires multiple iterations to build a good model."
   ]
  },
  {
   "cell_type": "markdown",
   "metadata": {},
   "source": [
    "#### 5\n",
    "\n",
    "Which one of these plots represents a ReLU activation function?  "
   ]
  },
  {
   "cell_type": "markdown",
   "metadata": {},
   "source": [
    "#### 6\n",
    "\n",
    "Images for cat recognition is an example of “structured” data, because it is represented as a structured array in a computer. True/False? FALSE  \n",
    "\n",
    "Images for cat recognition is an example of “unstructured” data."
   ]
  },
  {
   "cell_type": "markdown",
   "metadata": {},
   "source": [
    "#### 7\n",
    "\n",
    "A demographic dataset with statistics on different cities' population, GDP per capita, economic growth is an example of “unstructured” data because it contains data coming from different sources. True/False? FALSE  \n",
    "\n",
    "A demographic dataset with statistics on different cities' population, GDP per capita, economic growth is an example of “structured” data by opposition to image, audio or text datasets."
   ]
  },
  {
   "cell_type": "markdown",
   "metadata": {},
   "source": [
    "#### 8\n",
    "\n",
    "Why is an RNN (Recurrent Neural Network) used for machine translation, say translating English to French? (Check all that apply.)\n",
    "\n",
    "It can be trained as a supervised learning problem. CORRECT  \n",
    "We can train it on many pairs of sentences x (English) and y (French).  \n",
    "\n",
    "It is applicable when the input/output is a sequence (e.g., a sequence of words). CORRECT  \n",
    "An RNN can map from a sequence of english words to a sequence of french words.\n"
   ]
  },
  {
   "cell_type": "markdown",
   "metadata": {},
   "source": [
    "#### 9\n",
    "\n",
    "In this diagram which we hand-drew in lecture, what do the horizontal axis (x-axis) and vertical axis (y-axis) represent?\n",
    "\n",
    "x-axis is the amount of data  \n",
    "y-axis (vertical axis) is the performance of the algorithm  "
   ]
  },
  {
   "cell_type": "markdown",
   "metadata": {},
   "source": [
    "#### 10\n",
    "\n",
    "Assuming the trends described in the previous question's figure are accurate (and hoping you got the axis labels right), which of the following are true? (Check all that apply.)  \n",
    "\n",
    "Increasing the training set size generally does not hurt an algorithm’s performance, and it may help significantly. CORRECT  \n",
    "Bringing more data to a model is almost always beneficial.  \n",
    "\n",
    "Increasing the size of a neural network generally does not hurt an algorithm’s performance, and it may help significantly. CORRECT  \n",
    "According to the trends in the figure above, big networks usually perform better than small networks. "
   ]
  }
 ],
 "metadata": {
  "kernelspec": {
   "display_name": "Python 3",
   "language": "python",
   "name": "python3"
  },
  "language_info": {
   "codemirror_mode": {
    "name": "ipython",
    "version": 3
   },
   "file_extension": ".py",
   "mimetype": "text/x-python",
   "name": "python",
   "nbconvert_exporter": "python",
   "pygments_lexer": "ipython3",
   "version": "3.6.2"
  }
 },
 "nbformat": 4,
 "nbformat_minor": 0
}
