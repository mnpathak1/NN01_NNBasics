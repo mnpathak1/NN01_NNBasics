{
 "cells": [
  {
   "cell_type": "markdown",
   "metadata": {},
   "source": [
    "#### 1\n",
    "\n",
    "What is the \"cache\" used for in our implementation of forward propagation and backward propagation?\n",
    "\n",
    "It is used to keep track of the hyperparameters that we are searching over, to speed up computation.  \n",
    "\n",
    "We use it to pass variables computed during forward propagation to the corresponding backward propagation step. It contains useful values for backward propagation to compute derivatives. CORRECT  \n",
    "\n",
    "It is used to cache the intermediate values of the cost function during training.  \n",
    "\n",
    "We use it to pass variables computed during backward propagation to the corresponding forward propagation step. It contains useful values for forward propagation to compute activations.  \n"
   ]
  },
  {
   "cell_type": "markdown",
   "metadata": {},
   "source": [
    "#### 2\n",
    "\n",
    "Among the following, which ones are \"hyperparameters\"? (Check all that apply.)\n",
    "\n",
    "bias vectors b[l]  \n",
    "\n",
    "size of the hidden layers n[l] CORRECT  \n",
    "\n",
    "number of layers L in the neural network CORRECT  \n",
    "\n",
    "number of iterations CORRECT  \n",
    "\n",
    "learning rate α CORRECT  \n",
    "\n",
    "activation values a[l]  \n",
    "\n",
    "weight matrices W[l]  \n"
   ]
  },
  {
   "cell_type": "markdown",
   "metadata": {},
   "source": [
    "#### 3\n",
    "\n",
    "Which of the following statements is true?\n",
    "\n",
    "The deeper layers of a neural network are typically computing more complex features of the input than the earlier layers. CORRECT  \n",
    "\n",
    "The earlier layers of a neural network are typically computing more complex features of the input than the deeper layers.  "
   ]
  },
  {
   "cell_type": "markdown",
   "metadata": {},
   "source": [
    "#### 4\n",
    "\n",
    "Vectorization allows you to compute forward propagation in an L-layer neural network without an explicit for-loop (or any other explicit iterative loop) over the layers l=1, 2, …,L. True/False? FALSE"
   ]
  },
  {
   "cell_type": "markdown",
   "metadata": {},
   "source": [
    "#### 5\n",
    "\n",
    "Assume we store the values for n[l] in an array called layers, as follows: layer_dims = [nx, 4,3,2,1]. So layer 1 has four hidden units, layer 2 has 3 hidden units and so on. Which of the following for-loops will allow you to initialize the parameters for the model? GOT IT WRONG  "
   ]
  },
  {
   "cell_type": "code",
   "execution_count": 5,
   "metadata": {
    "collapsed": false
   },
   "outputs": [],
   "source": [
    "'''\n",
    "for(i in range(1, len(layer_dims)/2)):\n",
    "  parameter[‘W’ + str(i)] = np.random.randn(layers[i], layers[i-1])) * 0.01\n",
    "  parameter[‘b’ + str(i)] = np.random.randn(layers[i], 1) * 0.01\n",
    "  \n",
    "for(i in range(1, len(layer_dims)/2)):\n",
    "  parameter[‘W’ + str(i)] = np.random.randn(layers[i], layers[i-1])) * 0.01\n",
    "  parameter[‘b’ + str(i)] = np.random.randn(layers[i-1], 1) * 0.01\n",
    "  \n",
    "for(i in range(1, len(layer_dims))):\n",
    "  parameter[‘W’ + str(i)] = np.random.randn(layers[i-1], layers[i])) * 0.01\n",
    "  parameter[‘b’ + str(i)] = np.random.randn(layers[i], 1) * 0.01\n",
    "  \n",
    "for(i in range(1, len(layer_dims))):\n",
    "  parameter[‘W’ + str(i)] = np.random.randn(layers[i], layers[i-1])) * 0.01\n",
    "  parameter[‘b’ + str(i)] = np.random.randn(layers[i], 1) * 0.01\n",
    "  \n",
    "''';"
   ]
  },
  {
   "cell_type": "markdown",
   "metadata": {},
   "source": [
    "#### 6\n",
    "\n",
    "Consider the following neural network. And: it is 4 layers and 3 hidden layers."
   ]
  },
  {
   "cell_type": "markdown",
   "metadata": {},
   "source": [
    "#### 7\n",
    "\n",
    "During forward propagation, in the forward function for a layer l you need to know what is the activation function in a layer (Sigmoid, tanh, ReLU, etc.). During backpropagation, the corresponding backward function also needs to know what is the activation function for layer l, since the gradient depends on it. True/False? TRUE"
   ]
  },
  {
   "cell_type": "markdown",
   "metadata": {},
   "source": [
    "#### 8\n",
    "\n",
    "There are certain functions with the following properties:\n",
    "\n",
    "(i) To compute the function using a shallow network circuit, you will need a large network (where we measure size by the number of logic gates in the network), but (ii) To compute it using a deep network circuit, you need only an exponentially smaller network. True/False? TRUE"
   ]
  },
  {
   "cell_type": "markdown",
   "metadata": {},
   "source": [
    "#### 9\n",
    "\n",
    "Consider the following 2 hidden layer neural network:\n",
    "    \n",
    "nx = 4, nh1 = 4, nh2 = 3, ny = 1\n",
    "\n",
    "Which of the following statements are True? (Check all that apply).\n",
    "\n",
    "W[1] will have shape (4, 4) CORRECT  \n",
    "\n",
    "b[1] will have shape (4, 1) CORRECT  \n",
    "\n",
    "W[1] will have shape (3, 4)  \n",
    "\n",
    "b[1] will have shape (3, 1)  \n",
    "\n",
    "W[2] will have shape (3, 4) CORRECT  \n",
    "\n",
    "b[2] will have shape (1, 1)  \n",
    "\n",
    "W[2] will have shape (3, 1)  \n",
    "\n",
    "b[2] will have shape (3, 1) CORRECT  \n",
    "\n",
    "W[3] will have shape (3, 1)  \n",
    "\n",
    "b[3] will have shape (1, 1) CORRECT  \n",
    "\n",
    "W[3] will have shape (1, 3) CORRECT  \n",
    "\n",
    "b[3] will have shape (3, 1)"
   ]
  },
  {
   "cell_type": "markdown",
   "metadata": {},
   "source": [
    "#### 10\n",
    "\n",
    "\n",
    "Whereas the previous question used a specific network, in the general case what is the dimension of W^{[l]}, the weight matrix associated with layer l?\n",
    "\n",
    "W[l] has shape (n[l],n[l+1])  \n",
    "\n",
    "W[l] has shape (n[l],n[l−1]) CORRECT  \n",
    "\n",
    "W[l] has shape (n[l−1],n[l])  \n",
    "\n",
    "W[l] has shape (n[l+1],n[l])  "
   ]
  },
  {
   "cell_type": "code",
   "execution_count": null,
   "metadata": {
    "collapsed": true
   },
   "outputs": [],
   "source": []
  }
 ],
 "metadata": {
  "kernelspec": {
   "display_name": "Python 3",
   "language": "python",
   "name": "python3"
  },
  "language_info": {
   "codemirror_mode": {
    "name": "ipython",
    "version": 3
   },
   "file_extension": ".py",
   "mimetype": "text/x-python",
   "name": "python",
   "nbconvert_exporter": "python",
   "pygments_lexer": "ipython3",
   "version": "3.6.2"
  }
 },
 "nbformat": 4,
 "nbformat_minor": 0
}
