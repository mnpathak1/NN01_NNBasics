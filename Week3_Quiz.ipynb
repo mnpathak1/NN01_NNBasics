{
 "cells": [
  {
   "cell_type": "markdown",
   "metadata": {
    "deletable": true,
    "editable": true
   },
   "source": [
    "## 1\n",
    "Which of the following are true? (Check all that apply.)\n",
    "\n",
    " a[2]4 is the activation output of the 2nd layer for the 4th training example\n",
    "\n",
    " a[2] (12) denotes activation vector of the 12th layer on the 2nd training example.\n",
    "\n",
    " X is a matrix in which each row is one training example.\n",
    "\n",
    " a[2]4 is the activation output by the 4th neuron of the 2nd layer CORRECT\n",
    "\n",
    " X is a matrix in which each column is one training example. CORRECT\n",
    "\n",
    " a[2] denotes the activation vector of the 2nd layer. CORRECT\n",
    "\n",
    " a[2] (12) denotes the activation vector of the 2nd layer for the 12th training example. CORRECT"
   ]
  },
  {
   "cell_type": "markdown",
   "metadata": {
    "deletable": true,
    "editable": true
   },
   "source": [
    "## 2\n",
    "\n",
    "The tanh activation usually works better than sigmoid activation function for hidden units because the mean of its output is closer to zero, and so it centers the data better for the next layer. True/False?\n",
    "\n",
    "True CORRECT\n",
    "\n",
    "False"
   ]
  },
  {
   "cell_type": "markdown",
   "metadata": {
    "deletable": true,
    "editable": true
   },
   "source": [
    "## 3\n",
    "\n",
    "Which of these is a correct vectorized implementation of forward propagation for layer l, where 1≤l≤L?\n",
    "\n",
    "Z[l]=W[l]A[l−1]+b[l]   CORRECT  \n",
    "A[l]=g[l] (Z[l])\n",
    "\n",
    "Z[l]=W[l]A[l]+b[l]\n",
    "A[l+1]=g[l+1] (Z[l])\n",
    "\n",
    "Z[l]=W[l]A[l]+b[l]\n",
    "A[l+1]=g[l] (Z[l])\n",
    "\n",
    "Z[l]=W[l−1]A[l]+b[l−1]\n",
    "A[l]=g[l] (Z[l])"
   ]
  },
  {
   "cell_type": "markdown",
   "metadata": {
    "deletable": true,
    "editable": true
   },
   "source": [
    "## 4\n",
    "\n",
    "You are building a binary classifier for recognizing cucumbers (y=1) vs. watermelons (y=0). Which one of these activation functions would you recommend using for the output layer?\n",
    "\n",
    "ReLU\n",
    "\n",
    "Leaky ReLU\n",
    "\n",
    "sigmoid CORRECT since it is binary classification\n",
    "\n",
    "tanh"
   ]
  },
  {
   "cell_type": "markdown",
   "metadata": {
    "deletable": true,
    "editable": true
   },
   "source": [
    "## 5\n",
    "Consider the following code. What is shape of B?"
   ]
  },
  {
   "cell_type": "code",
   "execution_count": 3,
   "metadata": {
    "collapsed": false,
    "deletable": true,
    "editable": true
   },
   "outputs": [
    {
     "data": {
      "text/plain": [
       "(4, 1)"
      ]
     },
     "execution_count": 3,
     "metadata": {},
     "output_type": "execute_result"
    }
   ],
   "source": [
    "import numpy as np\n",
    "A = np.random.randn(4,3)\n",
    "B = np.sum(A, axis = 1, keepdims = True)\n",
    "\n",
    "\n",
    "B.shape"
   ]
  },
  {
   "cell_type": "markdown",
   "metadata": {
    "deletable": true,
    "editable": true
   },
   "source": [
    "## 6\n",
    "Suppose you have built a neural network. You decide to initialize the weights and biases to be zero. Which of the following statements is true?\n",
    "\n",
    "\n",
    "Each neuron in the first hidden layer will perform the same computation. So even after multiple iterations of gradient descent each neuron in the layer will be computing the same thing as other neurons.  CORRECT\n",
    "\n",
    "Each neuron in the first hidden layer will perform the same computation in the first iteration. But after one iteration of gradient descent they will learn to compute different things because we have “broken symmetry”.\n",
    "\n",
    "Each neuron in the first hidden layer will compute the same thing, but neurons in different layers will compute different things, thus we have accomplished “symmetry breaking” as described in lecture.\n",
    "\n",
    "The first hidden layer’s neurons will perform different computations from each other even in the first iteration; their parameters will thus keep evolving in their own way."
   ]
  },
  {
   "cell_type": "markdown",
   "metadata": {
    "deletable": true,
    "editable": true
   },
   "source": [
    "## 7\n",
    "\n",
    "Logistic regression’s weights w should be initialized randomly rather than to all zeros, because if you initialize to all zeros, then logistic regression will fail to learn a useful decision boundary because it will fail to “break symmetry”, True/False?\n",
    "\n",
    "True\n",
    "\n",
    "False  CORRECT  \n",
    "\n",
    "Logistic Regression doesn't have a hidden layer. If you initialize the weights to zeros, the first example x fed in the logistic regression will output zero but the derivatives of the Logistic Regression depend on the input x (because there's no hidden layer) which is not zero. So at the second iteration, the weights values follow x's distribution and are different from each other if x is not a constant vector."
   ]
  },
  {
   "cell_type": "markdown",
   "metadata": {
    "deletable": true,
    "editable": true
   },
   "source": [
    "## 8\n",
    "\n",
    "You have built a network using the tanh activation for all the hidden units. You initialize the weights to relative large values, using np.random.randn(..,..)*1000. What will happen?\n",
    "\n",
    "It doesn’t matter. So long as you initialize the weights randomly gradient descent is not affected by whether the weights are large or small.\n",
    "\n",
    "This will cause the inputs of the tanh to also be very large, thus causing gradients to also become large. You therefore have to set α to be very small to prevent divergence; this will slow down learning.\n",
    "\n",
    "This will cause the inputs of the tanh to also be very large, thus causing gradients to be close to zero. The optimization algorithm will thus become slow.  CORRECT  \n",
    "\n",
    "This will cause the inputs of the tanh to also be very large, causing the units to be “highly activated” and thus speed up learning compared to if the weights had to start from small values."
   ]
  },
  {
   "cell_type": "markdown",
   "metadata": {
    "deletable": true,
    "editable": true
   },
   "source": [
    "## 9\n",
    "\n",
    "Consider the following 1 hidden layer neural network:\n",
    "\n",
    "Which of the following statements are True? (Check all that apply).\n",
    "\n",
    "W[1] will have shape (2, 4)\n",
    "\n",
    "b[1] will have shape (4, 1) CORRECT  \n",
    "\n",
    "W[1] will have shape (4, 2) CORRECT\n",
    "\n",
    "b[1] will have shape (2, 1)  \n",
    "\n",
    "W[2] will have shape (1, 4) CORRECT\n",
    "\n",
    "b[2] will have shape (4, 1)\n",
    "\n",
    "W[2] will have shape (4, 1)\n",
    "\n",
    "b[2] will have shape (1, 1) CORRECT "
   ]
  },
  {
   "cell_type": "markdown",
   "metadata": {
    "deletable": true,
    "editable": true
   },
   "source": [
    "## 10\n",
    "\n",
    "In the same network as the previous question, what are the dimensions of Z[1] and A[1]?\n",
    "\n",
    "Z[1] and A[1] are (4,m)\n",
    "\n",
    "Z[1] and A[1] are (1,4)\n",
    "\n",
    "Z[1] and A[1] are (4,2)\n",
    "\n",
    "Z[1] and A[1] are (4,1)"
   ]
  }
 ],
 "metadata": {
  "kernelspec": {
   "display_name": "Python 3",
   "language": "python",
   "name": "python3"
  },
  "language_info": {
   "codemirror_mode": {
    "name": "ipython",
    "version": 3
   },
   "file_extension": ".py",
   "mimetype": "text/x-python",
   "name": "python",
   "nbconvert_exporter": "python",
   "pygments_lexer": "ipython3",
   "version": "3.6.2"
  }
 },
 "nbformat": 4,
 "nbformat_minor": 2
}
